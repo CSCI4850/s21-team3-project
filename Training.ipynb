{
 "cells": [
  {
   "cell_type": "markdown",
   "id": "collective-custom",
   "metadata": {},
   "source": [
    "# To train up a Model with the .wav dataset. Run through this Notebook"
   ]
  },
  {
   "cell_type": "code",
   "execution_count": null,
   "id": "impossible-investor",
   "metadata": {},
   "outputs": [
    {
     "name": "stdout",
     "output_type": "stream",
     "text": [
      "--2021-04-15 08:59:07--  https://zenodo.org/record/4682101/files/dataset.zip\n",
      "Resolving zenodo.org (zenodo.org)... 137.138.76.77\n",
      "Connecting to zenodo.org (zenodo.org)|137.138.76.77|:443... connected.\n",
      "HTTP request sent, awaiting response... 200 OK\n",
      "Length: 2496387986 (2.3G) [application/octet-stream]\n",
      "Saving to: ‘dataset.zip’\n",
      "\n",
      "dataset.zip           9%[>                   ] 234.03M  3.02MB/s    eta 13m 59s"
     ]
    }
   ],
   "source": [
    "#Download Dataset\n",
    "!wget https://zenodo.org/record/4682101/files/dataset.zip"
   ]
  },
  {
   "cell_type": "code",
   "execution_count": 2,
   "id": "executive-closure",
   "metadata": {},
   "outputs": [],
   "source": [
    "#Unzip Dataset\n",
    "!unzip dataset.zip > 0"
   ]
  },
  {
   "cell_type": "code",
   "execution_count": 1,
   "id": "descending-score",
   "metadata": {},
   "outputs": [],
   "source": [
    "# import Required Libraries\n",
    "from matplotlib import cm\n",
    "import os.path\n",
    "import random\n",
    "import pathlib\n",
    "import matplotlib.pyplot as plt\n",
    "import tensorflow as tf\n",
    "import numpy as np\n",
    "import tensorflow.compat.v1.keras.backend as K\n",
    "from feature_extract import *\n",
    "from train import Model\n",
    "from tflite_op import *\n",
    "from feature_extract import *\n",
    "\n",
    "if tf.test.is_built_with_cuda():\n",
    "    from tensorflow.compat.v1 import ConfigProto\n",
    "    from tensorflow.compat.v1 import InteractiveSession\n",
    "    config = ConfigProto()\n",
    "    config.gpu_options.allow_growth = True\n",
    "    sess = InteractiveSession(config=config)\n",
    "else:\n",
    "    sess = InteractiveSession()"
   ]
  },
  {
   "cell_type": "code",
   "execution_count": 2,
   "id": "noble-bonus",
   "metadata": {},
   "outputs": [
    {
     "name": "stdout",
     "output_type": "stream",
     "text": [
      "Number of Commands:  39\n"
     ]
    }
   ],
   "source": [
    "#!unzip dataset.zip > 0\n",
    "\"\"\" \n",
    "    Read Samples directory into an Array Excluding irrelivant directories\n",
    "\"\"\"\n",
    "data_dir = pathlib.Path('dataset')\n",
    "\n",
    "commands = np.array(tf.io.gfile.listdir(str(data_dir)))\n",
    "commands = commands[commands != 'validation_list.txt']\n",
    "commands = commands[commands != \"_background_noise_\"]\n",
    "commands = commands[commands != 'LICENSE']\n",
    "commands = commands[commands != '.DS_Store']\n",
    "commands = commands[commands != 'README.md']\n",
    "commands = commands[commands != 'testing_list.txt']\n",
    "commands = commands[commands != '.ipynb_checkpoints']\n",
    "# commands = commands[commands != 'silence']\n",
    "commands = list(commands)\n",
    "print(\"Number of Commands: \", len(commands))"
   ]
  },
  {
   "cell_type": "code",
   "execution_count": 3,
   "id": "opened-phrase",
   "metadata": {},
   "outputs": [],
   "source": [
    "!rm -r dataset/_background_noise_\n",
    "# !rm -r dataset/silence\n",
    "model_dir = pathlib.Path('checkpoints')"
   ]
  },
  {
   "cell_type": "markdown",
   "id": "closing-operation",
   "metadata": {},
   "source": [
    "# We are creating a List of the Words that you want to tarin the Model. Please leave the Silence and the Unknown Index as they are"
   ]
  },
  {
   "cell_type": "code",
   "execution_count": 4,
   "id": "rotary-italian",
   "metadata": {},
   "outputs": [],
   "source": [
    "training_commands = [\"silence\", \"unknown\", \"on\", \"off\", \"fan\", \"heater\", \"light\"] # Enter Your Required Labels for Training"
   ]
  },
  {
   "cell_type": "code",
   "execution_count": 5,
   "id": "blond-thousand",
   "metadata": {},
   "outputs": [],
   "source": [
    "training_percent = 0.7 # Percentage of Data available for Training\n",
    "validation_percent = 0.20 # Percentage of Data available for Validation\n",
    "testing_percent = 0.10 # Percentage of Data available for Testing"
   ]
  },
  {
   "cell_type": "code",
   "execution_count": 6,
   "id": "balanced-evolution",
   "metadata": {},
   "outputs": [
    {
     "name": "stdout",
     "output_type": "stream",
     "text": [
      "silence 75\n",
      "fan 332\n",
      "heater 332\n",
      "off 3958\n",
      "light 351\n",
      "on 4071\n",
      "unknown 4071\n"
     ]
    }
   ],
   "source": [
    "train_files = []\n",
    "val_files = []\n",
    "test_files= []\n",
    "unknown = []\n",
    "high = 0\n",
    "\n",
    "for com in commands:\n",
    "    search_path = os.path.join(data_dir, com, '*.wav')\n",
    "    files = gfile.Glob(search_path)\n",
    "    if com in training_commands:\n",
    "        n_of_samples = len(files)\n",
    "        if n_of_samples >= high:\n",
    "            high = n_of_samples\n",
    "        train_percent = int(n_of_samples * training_percent) # Percentage of Data available for Training\n",
    "        val_percent = int(n_of_samples*validation_percent) # Percentage of Data available for Validation\n",
    "        test_percent = int(n_of_samples*testing_percent) # Percentage of Data available for Testitraining_percent\n",
    "        print(com, n_of_samples)\n",
    "        train_files += files[:train_percent]\n",
    "        val_files += files[train_percent:val_percent+train_percent]\n",
    "        test_files += files[val_percent+train_percent:]\n",
    "    else:\n",
    "        unknown += files\n",
    "\n",
    "np.random.shuffle(unknown)      \n",
    "unknown = unknown[:high]\n",
    "n_of_samples = len(unknown)\n",
    "train_percent = int(n_of_samples * training_percent) # Percentage of Data available for Training\n",
    "val_percent = int(n_of_samples*validation_percent) # Percentage of Data available for Validation\n",
    "test_percent = int(n_of_samples*testing_percent) # Percentage of Data available for Testitraining_percent\n",
    "train_files += files[:train_percent]\n",
    "val_files += files[train_percent:val_percent+train_percent]\n",
    "test_files += files[val_percent+train_percent:]\n",
    "        \n",
    "print(\"unknown\", len(unknown))"
   ]
  },
  {
   "cell_type": "code",
   "execution_count": 7,
   "id": "hundred-julian",
   "metadata": {},
   "outputs": [
    {
     "name": "stdout",
     "output_type": "stream",
     "text": [
      "training samples:  8493\n",
      "validation Samples:  1822\n",
      "test Samples:  917\n"
     ]
    }
   ],
   "source": [
    "print(\"training samples: \", len(train_files))\n",
    "print(\"validation Samples: \", len(val_files))\n",
    "print(\"test Samples: \", len(test_files))"
   ]
  },
  {
   "cell_type": "markdown",
   "id": "featured-robertson",
   "metadata": {},
   "source": [
    "## Create Model and Model Layers. You can increase the CNN filters to desired values to increase accuracy"
   ]
  },
  {
   "cell_type": "code",
   "execution_count": 8,
   "id": "valid-circuit",
   "metadata": {},
   "outputs": [
    {
     "name": "stdout",
     "output_type": "stream",
     "text": [
      "{0: 'silence', 1: 'unknown', 2: 'on', 3: 'off', 4: 'fan', 5: 'heater', 6: 'light'}\n"
     ]
    }
   ],
   "source": [
    "model = Model(first_conv_filter = 8, model_dir=\"checkpoints\", commands= training_commands , sess = sess) # Create Model"
   ]
  },
  {
   "cell_type": "code",
   "execution_count": 10,
   "id": "strange-monitor",
   "metadata": {},
   "outputs": [],
   "source": [
    "#Comment out to load from checkpoint, you can also pass in path to checkpoint\n",
    "#model.load_checkpoint()\n",
    "#model.load_checkpoint(path=\"checkpoint/model_checkpoint.ckpt-15000\") "
   ]
  },
  {
   "cell_type": "code",
   "execution_count": 9,
   "id": "moderate-exclusion",
   "metadata": {},
   "outputs": [
    {
     "name": "stdout",
     "output_type": "stream",
     "text": [
      "INFO:tensorflow:Using MirroredStrategy with devices ('/replica:0/task:0/device:GPU:0', '/replica:0/task:0/device:GPU:1')\n",
      "Step #0: learning rate 0.001000, accuracy 5.5%, cross entropy 2.155438\n",
      "Step 0: Validation accuracy = 40.0% (Val Size=1024), Validation loss = 1.859394\n",
      "Step #1000: learning rate 0.001000, accuracy 77.7%, cross entropy 0.613008\n",
      "Step 1000: Validation accuracy = 77.3% (Val Size=1024), Validation loss = 0.674524\n",
      "Step #2000: learning rate 0.001000, accuracy 84.4%, cross entropy 0.541491\n",
      "Step 2000: Validation accuracy = 77.6% (Val Size=1024), Validation loss = 0.603156\n",
      "Step #3000: learning rate 0.001000, accuracy 86.3%, cross entropy 0.405746\n",
      "Step 3000: Validation accuracy = 83.4% (Val Size=1024), Validation loss = 0.485173\n",
      "Step #4000: learning rate 0.001000, accuracy 85.9%, cross entropy 0.388513\n",
      "Step 4000: Validation accuracy = 83.8% (Val Size=1024), Validation loss = 0.476771\n",
      "Step #5000: learning rate 0.001000, accuracy 85.5%, cross entropy 0.475024\n",
      "Step 5000: Validation accuracy = 83.6% (Val Size=1024), Validation loss = 0.464842\n",
      "WARNING:tensorflow:From /usr/lib/python3/dist-packages/tensorflow/python/training/saver.py:968: remove_checkpoint (from tensorflow.python.training.checkpoint_management) is deprecated and will be removed in a future version.\n",
      "Instructions for updating:\n",
      "Use standard file APIs to delete files with this prefix.\n",
      "Step #6000: learning rate 0.001000, accuracy 85.2%, cross entropy 0.435330\n",
      "Step 6000: Validation accuracy = 85.1% (Val Size=1024), Validation loss = 0.451325\n",
      "Step #7000: learning rate 0.001000, accuracy 91.4%, cross entropy 0.280464\n",
      "Step 7000: Validation accuracy = 85.3% (Val Size=1024), Validation loss = 0.443358\n",
      "Step #8000: learning rate 0.001000, accuracy 86.7%, cross entropy 0.405661\n",
      "Step 8000: Validation accuracy = 87.3% (Val Size=1024), Validation loss = 0.404331\n",
      "Step #9000: learning rate 0.001000, accuracy 91.0%, cross entropy 0.289078\n",
      "Step 9000: Validation accuracy = 85.0% (Val Size=1024), Validation loss = 0.414111\n",
      "Step #10000: learning rate 0.000100, accuracy 86.7%, cross entropy 0.364960\n",
      "Step 10000: Validation accuracy = 85.7% (Val Size=1024), Validation loss = 0.425444\n",
      "Step #11000: learning rate 0.000100, accuracy 88.3%, cross entropy 0.346749\n",
      "Step 11000: Validation accuracy = 86.5% (Val Size=1024), Validation loss = 0.393925\n",
      "Step #12000: learning rate 0.000100, accuracy 88.3%, cross entropy 0.312636\n",
      "Step 12000: Validation accuracy = 86.4% (Val Size=1024), Validation loss = 0.411994\n",
      "Step #13000: learning rate 0.000100, accuracy 91.4%, cross entropy 0.283774\n",
      "Step 13000: Validation accuracy = 86.7% (Val Size=1024), Validation loss = 0.397441\n",
      "Step #14000: learning rate 0.000100, accuracy 89.5%, cross entropy 0.279839\n",
      "Step 14000: Validation accuracy = 86.7% (Val Size=1024), Validation loss = 0.404342\n"
     ]
    }
   ],
   "source": [
    "# Train Model\n",
    "history = model.train(learn_rate=[0.001, 0.0001], dropout_rate=0.5, save_step=1000, eval_step=1000,\n",
    "                      batch_size=256, training_time=15000, rate_step=10000, display_step=1000, \n",
    "                      train_data=train_files, Validation_data=val_files)"
   ]
  },
  {
   "cell_type": "code",
   "execution_count": 11,
   "id": "handy-mistake",
   "metadata": {},
   "outputs": [
    {
     "data": {
      "image/png": "[encoded data removed]",
      "text/plain": [
       "<Figure size 432x288 with 2 Axes>"
      ]
     },
     "metadata": {
      "needs_background": "light"
     },
     "output_type": "display_data"
    }
   ],
   "source": [
    "plt.subplot(211)\n",
    "plt.plot(history['categorical_accuracy'])\n",
    "plt.plot(history['val_categorical_accuracy'])\n",
    "plt.title('model accuracy')\n",
    "plt.ylabel('accuracy')\n",
    "plt.xlabel('epoch')\n",
    "plt.legend(['train','val'],loc='upper left')# summarize history for loss \n",
    "\n",
    "\n",
    "\n",
    "plt.subplot(212)\n",
    "plt.plot(history['loss'])\n",
    "plt.plot(history['val_loss'])\n",
    "plt.title('model loss')\n",
    "plt.ylabel('loss')\n",
    "plt.xlabel('epoch')\n",
    "plt.legend(['train','val'],loc='upper left')\n",
    "plt.tight_layout()\n",
    "plt.show()"
   ]
  },
  {
   "cell_type": "code",
   "execution_count": 12,
   "id": "molecular-median",
   "metadata": {},
   "outputs": [],
   "source": [
    "data, label = model.get_next_batch(200, file_path = test_files) # Grab 2000 files from Test files for Evaluation"
   ]
  },
  {
   "cell_type": "code",
   "execution_count": 13,
   "id": "social-circuit",
   "metadata": {},
   "outputs": [
    {
     "data": {
      "text/plain": [
       "1960"
      ]
     },
     "execution_count": 13,
     "metadata": {},
     "output_type": "execute_result"
    }
   ],
   "source": [
    "len(data[0])"
   ]
  },
  {
   "cell_type": "code",
   "execution_count": 14,
   "id": "stopped-queue",
   "metadata": {},
   "outputs": [
    {
     "name": "stdout",
     "output_type": "stream",
     "text": [
      "Validation accuracy = 85.5%, Validation loss = 0.431981\n"
     ]
    },
    {
     "data": {
      "text/plain": [
       "(0.855, 0.43198094)"
      ]
     },
     "execution_count": 14,
     "metadata": {},
     "output_type": "execute_result"
    }
   ],
   "source": [
    "model.evaluate(data, label) # Evaluate on Data # Please note "
   ]
  },
  {
   "cell_type": "markdown",
   "id": "single-remains",
   "metadata": {},
   "source": [
    "# Let us See the Accuracy on Test Samples"
   ]
  },
  {
   "cell_type": "code",
   "execution_count": 15,
   "id": "substantial-setup",
   "metadata": {},
   "outputs": [
    {
     "name": "stdout",
     "output_type": "stream",
     "text": [
      " Model accuracy is 85.714286% (Number of test samples=917)\n"
     ]
    }
   ],
   "source": [
    "grab = int(len(test_files)/5)\n",
    "fro = 0\n",
    "correct = 0\n",
    "for i in range(5):\n",
    "    data, label = model.get_next_batch(int(len(test_files)/5), test_files[fro:grab])\n",
    "    predictions = model.predict(data)[0]\n",
    "    correct+=np.sum(predictions == label)\n",
    "    fro = grab\n",
    "    grab+=int(len(test_files)/5)\n",
    "print(' Model accuracy is %f%% (Number of test samples=%d)' % (\n",
    "        (correct * 100) / len(test_files), len(test_files)))"
   ]
  },
  {
   "cell_type": "markdown",
   "id": "proved-spelling",
   "metadata": {},
   "source": [
    "# Here we are Saving the Model for a reload using tf.saved_model.load, Serving Signature is set to Default"
   ]
  },
  {
   "cell_type": "code",
   "execution_count": 16,
   "id": "agreed-trinidad",
   "metadata": {},
   "outputs": [
    {
     "name": "stdout",
     "output_type": "stream",
     "text": [
      "INFO:tensorflow:Restoring parameters from checkpoints/model_checkpoint.ckpt-15000\n",
      "WARNING:tensorflow:From /home/jovyan/train.py:414: build_tensor_info (from tensorflow.python.saved_model.utils_impl) is deprecated and will be removed in a future version.\n",
      "Instructions for updating:\n",
      "This function will only be available through the v1 compatibility library as tf.compat.v1.saved_model.utils.build_tensor_info or tf.compat.v1.saved_model.build_tensor_info.\n",
      "INFO:tensorflow:No assets to save.\n",
      "INFO:tensorflow:No assets to write.\n",
      "INFO:tensorflow:SavedModel written to: Model/model_pb/saved_model.pb\n"
     ]
    }
   ],
   "source": [
    "model.save_pb_model(file_name = \"Model/model_pb\",  first_conv_filter= 8, frequency_size=40, time_size=49, )"
   ]
  },
  {
   "cell_type": "markdown",
   "id": "turkish-reach",
   "metadata": {},
   "source": [
    "# The Next Lines of code introduces you to TensorFlow LITE (TFLITE) and Tensorflow LITE MICRO (TFLITE MICRO)\n",
    "### TFLITE for Android Devices and Micro-Computers\n",
    "### TFLITE Micro for Micro-controllers and Embedded Devices with low power and generally requiring int8 computations"
   ]
  },
  {
   "cell_type": "code",
   "execution_count": 17,
   "id": "better-profile",
   "metadata": {},
   "outputs": [],
   "source": [
    "# directories and tflite micro libraries\n",
    "from tflite_op import *\n",
    "rep_size = 100\n",
    "float_model_tflite=\"Model/tfFloat\"\n",
    "quant_model_tflite= \"Model/tflite\"\n",
    "pb_model_dir = \"Model/model_pb\"\n",
    "tflite_micro = \"Model/tflite_micro.cc\""
   ]
  },
  {
   "cell_type": "code",
   "execution_count": 18,
   "id": "regulation-reality",
   "metadata": {},
   "outputs": [
    {
     "name": "stderr",
     "output_type": "stream",
     "text": [
      "WARNING:absl:Invoking the TF1 implementation of TFLiteConverter because eager is disabled. Consider enabling eager.\n"
     ]
    },
    {
     "name": "stdout",
     "output_type": "stream",
     "text": [
      "WARNING:tensorflow:From /usr/lib/python3/dist-packages/tensorflow/lite/python/convert_saved_model.py:60: load (from tensorflow.python.saved_model.loader_impl) is deprecated and will be removed in a future version.\n",
      "Instructions for updating:\n",
      "This function will only be available through the v1 compatibility library as tf.compat.v1.saved_model.loader.load or tf.compat.v1.saved_model.load. There will be a new function for importing SavedModels in Tensorflow 2.0.\n"
     ]
    },
    {
     "name": "stderr",
     "output_type": "stream",
     "text": [
      "WARNING:tensorflow:From /usr/lib/python3/dist-packages/tensorflow/lite/python/convert_saved_model.py:60: load (from tensorflow.python.saved_model.loader_impl) is deprecated and will be removed in a future version.\n",
      "Instructions for updating:\n",
      "This function will only be available through the v1 compatibility library as tf.compat.v1.saved_model.loader.load or tf.compat.v1.saved_model.load. There will be a new function for importing SavedModels in Tensorflow 2.0.\n"
     ]
    },
    {
     "name": "stdout",
     "output_type": "stream",
     "text": [
      "INFO:tensorflow:Restoring parameters from Model/model_pb/variables/variables\n"
     ]
    },
    {
     "name": "stderr",
     "output_type": "stream",
     "text": [
      "INFO:tensorflow:Restoring parameters from Model/model_pb/variables/variables\n"
     ]
    },
    {
     "name": "stdout",
     "output_type": "stream",
     "text": [
      "INFO:tensorflow:The given SavedModel MetaGraphDef contains SignatureDefs with the following keys: {'serving_default'}\n"
     ]
    },
    {
     "name": "stderr",
     "output_type": "stream",
     "text": [
      "INFO:tensorflow:The given SavedModel MetaGraphDef contains SignatureDefs with the following keys: {'serving_default'}\n"
     ]
    },
    {
     "name": "stdout",
     "output_type": "stream",
     "text": [
      "INFO:tensorflow:input tensors info: \n"
     ]
    },
    {
     "name": "stderr",
     "output_type": "stream",
     "text": [
      "INFO:tensorflow:input tensors info: \n"
     ]
    },
    {
     "name": "stdout",
     "output_type": "stream",
     "text": [
      "INFO:tensorflow:Tensor's key in saved_model's tensor_map: input\n"
     ]
    },
    {
     "name": "stderr",
     "output_type": "stream",
     "text": [
      "INFO:tensorflow:Tensor's key in saved_model's tensor_map: input\n"
     ]
    },
    {
     "name": "stdout",
     "output_type": "stream",
     "text": [
      "INFO:tensorflow: tensor name: Reshape_4:0, shape: (1, 1960), type: DT_FLOAT\n"
     ]
    },
    {
     "name": "stderr",
     "output_type": "stream",
     "text": [
      "INFO:tensorflow: tensor name: Reshape_4:0, shape: (1, 1960), type: DT_FLOAT\n"
     ]
    },
    {
     "name": "stdout",
     "output_type": "stream",
     "text": [
      "INFO:tensorflow:output tensors info: \n"
     ]
    },
    {
     "name": "stderr",
     "output_type": "stream",
     "text": [
      "INFO:tensorflow:output tensors info: \n"
     ]
    },
    {
     "name": "stdout",
     "output_type": "stream",
     "text": [
      "INFO:tensorflow:Tensor's key in saved_model's tensor_map: output\n"
     ]
    },
    {
     "name": "stderr",
     "output_type": "stream",
     "text": [
      "INFO:tensorflow:Tensor's key in saved_model's tensor_map: output\n"
     ]
    },
    {
     "name": "stdout",
     "output_type": "stream",
     "text": [
      "INFO:tensorflow: tensor name: labels_softmax:0, shape: (1, 7), type: DT_FLOAT\n"
     ]
    },
    {
     "name": "stderr",
     "output_type": "stream",
     "text": [
      "INFO:tensorflow: tensor name: labels_softmax:0, shape: (1, 7), type: DT_FLOAT\n"
     ]
    },
    {
     "name": "stdout",
     "output_type": "stream",
     "text": [
      "INFO:tensorflow:Restoring parameters from Model/model_pb/variables/variables\n"
     ]
    },
    {
     "name": "stderr",
     "output_type": "stream",
     "text": [
      "INFO:tensorflow:Restoring parameters from Model/model_pb/variables/variables\n"
     ]
    },
    {
     "name": "stdout",
     "output_type": "stream",
     "text": [
      "WARNING:tensorflow:From /usr/lib/python3/dist-packages/tensorflow/lite/python/util.py:326: convert_variables_to_constants (from tensorflow.python.framework.graph_util_impl) is deprecated and will be removed in a future version.\n",
      "Instructions for updating:\n",
      "Use `tf.compat.v1.graph_util.convert_variables_to_constants`\n"
     ]
    },
    {
     "name": "stderr",
     "output_type": "stream",
     "text": [
      "WARNING:tensorflow:From /usr/lib/python3/dist-packages/tensorflow/lite/python/util.py:326: convert_variables_to_constants (from tensorflow.python.framework.graph_util_impl) is deprecated and will be removed in a future version.\n",
      "Instructions for updating:\n",
      "Use `tf.compat.v1.graph_util.convert_variables_to_constants`\n"
     ]
    },
    {
     "name": "stdout",
     "output_type": "stream",
     "text": [
      "WARNING:tensorflow:From /usr/lib/python3/dist-packages/tensorflow/python/framework/convert_to_constants.py:856: extract_sub_graph (from tensorflow.python.framework.graph_util_impl) is deprecated and will be removed in a future version.\n",
      "Instructions for updating:\n",
      "Use `tf.compat.v1.graph_util.extract_sub_graph`\n"
     ]
    },
    {
     "name": "stderr",
     "output_type": "stream",
     "text": [
      "WARNING:tensorflow:From /usr/lib/python3/dist-packages/tensorflow/python/framework/convert_to_constants.py:856: extract_sub_graph (from tensorflow.python.framework.graph_util_impl) is deprecated and will be removed in a future version.\n",
      "Instructions for updating:\n",
      "Use `tf.compat.v1.graph_util.extract_sub_graph`\n"
     ]
    },
    {
     "name": "stdout",
     "output_type": "stream",
     "text": [
      "INFO:tensorflow:Restoring parameters from Model/model_pb/variables/variables\n"
     ]
    },
    {
     "name": "stderr",
     "output_type": "stream",
     "text": [
      "INFO:tensorflow:Restoring parameters from Model/model_pb/variables/variables\n"
     ]
    },
    {
     "name": "stdout",
     "output_type": "stream",
     "text": [
      "INFO:tensorflow:The given SavedModel MetaGraphDef contains SignatureDefs with the following keys: {'serving_default'}\n"
     ]
    },
    {
     "name": "stderr",
     "output_type": "stream",
     "text": [
      "INFO:tensorflow:The given SavedModel MetaGraphDef contains SignatureDefs with the following keys: {'serving_default'}\n"
     ]
    },
    {
     "name": "stdout",
     "output_type": "stream",
     "text": [
      "INFO:tensorflow:input tensors info: \n"
     ]
    },
    {
     "name": "stderr",
     "output_type": "stream",
     "text": [
      "INFO:tensorflow:input tensors info: \n"
     ]
    },
    {
     "name": "stdout",
     "output_type": "stream",
     "text": [
      "INFO:tensorflow:Tensor's key in saved_model's tensor_map: input\n"
     ]
    },
    {
     "name": "stderr",
     "output_type": "stream",
     "text": [
      "INFO:tensorflow:Tensor's key in saved_model's tensor_map: input\n"
     ]
    },
    {
     "name": "stdout",
     "output_type": "stream",
     "text": [
      "INFO:tensorflow: tensor name: Reshape_4:0, shape: (1, 1960), type: DT_FLOAT\n"
     ]
    },
    {
     "name": "stderr",
     "output_type": "stream",
     "text": [
      "INFO:tensorflow: tensor name: Reshape_4:0, shape: (1, 1960), type: DT_FLOAT\n"
     ]
    },
    {
     "name": "stdout",
     "output_type": "stream",
     "text": [
      "INFO:tensorflow:output tensors info: \n"
     ]
    },
    {
     "name": "stderr",
     "output_type": "stream",
     "text": [
      "INFO:tensorflow:output tensors info: \n"
     ]
    },
    {
     "name": "stdout",
     "output_type": "stream",
     "text": [
      "INFO:tensorflow:Tensor's key in saved_model's tensor_map: output\n"
     ]
    },
    {
     "name": "stderr",
     "output_type": "stream",
     "text": [
      "INFO:tensorflow:Tensor's key in saved_model's tensor_map: output\n"
     ]
    },
    {
     "name": "stdout",
     "output_type": "stream",
     "text": [
      "INFO:tensorflow: tensor name: labels_softmax:0, shape: (1, 7), type: DT_FLOAT\n"
     ]
    },
    {
     "name": "stderr",
     "output_type": "stream",
     "text": [
      "INFO:tensorflow: tensor name: labels_softmax:0, shape: (1, 7), type: DT_FLOAT\n"
     ]
    },
    {
     "name": "stdout",
     "output_type": "stream",
     "text": [
      "INFO:tensorflow:Restoring parameters from Model/model_pb/variables/variables\n"
     ]
    },
    {
     "name": "stderr",
     "output_type": "stream",
     "text": [
      "INFO:tensorflow:Restoring parameters from Model/model_pb/variables/variables\n"
     ]
    },
    {
     "name": "stdout",
     "output_type": "stream",
     "text": [
      "Float model is 116224 bytes\n"
     ]
    }
   ],
   "source": [
    "# See tflite_op for implementation. Save TFLITE MODEL FOR FLOAT VALUE COMPUTATION\n",
    "save_float_model(model_path=pb_model_dir, save_path=float_model_tflite)"
   ]
  },
  {
   "cell_type": "code",
   "execution_count": 19,
   "id": "soviet-resident",
   "metadata": {},
   "outputs": [
    {
     "name": "stderr",
     "output_type": "stream",
     "text": [
      "WARNING:absl:Invoking the TF1 implementation of TFLiteConverter because eager is disabled. Consider enabling eager.\n"
     ]
    },
    {
     "name": "stdout",
     "output_type": "stream",
     "text": [
      "INFO:tensorflow:Restoring parameters from Model/model_pb/variables/variables\n"
     ]
    },
    {
     "name": "stderr",
     "output_type": "stream",
     "text": [
      "INFO:tensorflow:Restoring parameters from Model/model_pb/variables/variables\n"
     ]
    },
    {
     "name": "stdout",
     "output_type": "stream",
     "text": [
      "INFO:tensorflow:The given SavedModel MetaGraphDef contains SignatureDefs with the following keys: {'serving_default'}\n"
     ]
    },
    {
     "name": "stderr",
     "output_type": "stream",
     "text": [
      "INFO:tensorflow:The given SavedModel MetaGraphDef contains SignatureDefs with the following keys: {'serving_default'}\n"
     ]
    },
    {
     "name": "stdout",
     "output_type": "stream",
     "text": [
      "INFO:tensorflow:input tensors info: \n"
     ]
    },
    {
     "name": "stderr",
     "output_type": "stream",
     "text": [
      "INFO:tensorflow:input tensors info: \n"
     ]
    },
    {
     "name": "stdout",
     "output_type": "stream",
     "text": [
      "INFO:tensorflow:Tensor's key in saved_model's tensor_map: input\n"
     ]
    },
    {
     "name": "stderr",
     "output_type": "stream",
     "text": [
      "INFO:tensorflow:Tensor's key in saved_model's tensor_map: input\n"
     ]
    },
    {
     "name": "stdout",
     "output_type": "stream",
     "text": [
      "INFO:tensorflow: tensor name: Reshape_4:0, shape: (1, 1960), type: DT_FLOAT\n"
     ]
    },
    {
     "name": "stderr",
     "output_type": "stream",
     "text": [
      "INFO:tensorflow: tensor name: Reshape_4:0, shape: (1, 1960), type: DT_FLOAT\n"
     ]
    },
    {
     "name": "stdout",
     "output_type": "stream",
     "text": [
      "INFO:tensorflow:output tensors info: \n"
     ]
    },
    {
     "name": "stderr",
     "output_type": "stream",
     "text": [
      "INFO:tensorflow:output tensors info: \n"
     ]
    },
    {
     "name": "stdout",
     "output_type": "stream",
     "text": [
      "INFO:tensorflow:Tensor's key in saved_model's tensor_map: output\n"
     ]
    },
    {
     "name": "stderr",
     "output_type": "stream",
     "text": [
      "INFO:tensorflow:Tensor's key in saved_model's tensor_map: output\n"
     ]
    },
    {
     "name": "stdout",
     "output_type": "stream",
     "text": [
      "INFO:tensorflow: tensor name: labels_softmax:0, shape: (1, 7), type: DT_FLOAT\n"
     ]
    },
    {
     "name": "stderr",
     "output_type": "stream",
     "text": [
      "INFO:tensorflow: tensor name: labels_softmax:0, shape: (1, 7), type: DT_FLOAT\n"
     ]
    },
    {
     "name": "stdout",
     "output_type": "stream",
     "text": [
      "INFO:tensorflow:Restoring parameters from Model/model_pb/variables/variables\n"
     ]
    },
    {
     "name": "stderr",
     "output_type": "stream",
     "text": [
      "INFO:tensorflow:Restoring parameters from Model/model_pb/variables/variables\n"
     ]
    },
    {
     "name": "stdout",
     "output_type": "stream",
     "text": [
      "INFO:tensorflow:Restoring parameters from Model/model_pb/variables/variables\n"
     ]
    },
    {
     "name": "stderr",
     "output_type": "stream",
     "text": [
      "INFO:tensorflow:Restoring parameters from Model/model_pb/variables/variables\n"
     ]
    },
    {
     "name": "stdout",
     "output_type": "stream",
     "text": [
      "INFO:tensorflow:The given SavedModel MetaGraphDef contains SignatureDefs with the following keys: {'serving_default'}\n"
     ]
    },
    {
     "name": "stderr",
     "output_type": "stream",
     "text": [
      "INFO:tensorflow:The given SavedModel MetaGraphDef contains SignatureDefs with the following keys: {'serving_default'}\n"
     ]
    },
    {
     "name": "stdout",
     "output_type": "stream",
     "text": [
      "INFO:tensorflow:input tensors info: \n"
     ]
    },
    {
     "name": "stderr",
     "output_type": "stream",
     "text": [
      "INFO:tensorflow:input tensors info: \n"
     ]
    },
    {
     "name": "stdout",
     "output_type": "stream",
     "text": [
      "INFO:tensorflow:Tensor's key in saved_model's tensor_map: input\n"
     ]
    },
    {
     "name": "stderr",
     "output_type": "stream",
     "text": [
      "INFO:tensorflow:Tensor's key in saved_model's tensor_map: input\n"
     ]
    },
    {
     "name": "stdout",
     "output_type": "stream",
     "text": [
      "INFO:tensorflow: tensor name: Reshape_4:0, shape: (1, 1960), type: DT_FLOAT\n"
     ]
    },
    {
     "name": "stderr",
     "output_type": "stream",
     "text": [
      "INFO:tensorflow: tensor name: Reshape_4:0, shape: (1, 1960), type: DT_FLOAT\n"
     ]
    },
    {
     "name": "stdout",
     "output_type": "stream",
     "text": [
      "INFO:tensorflow:output tensors info: \n"
     ]
    },
    {
     "name": "stderr",
     "output_type": "stream",
     "text": [
      "INFO:tensorflow:output tensors info: \n"
     ]
    },
    {
     "name": "stdout",
     "output_type": "stream",
     "text": [
      "INFO:tensorflow:Tensor's key in saved_model's tensor_map: output\n"
     ]
    },
    {
     "name": "stderr",
     "output_type": "stream",
     "text": [
      "INFO:tensorflow:Tensor's key in saved_model's tensor_map: output\n"
     ]
    },
    {
     "name": "stdout",
     "output_type": "stream",
     "text": [
      "INFO:tensorflow: tensor name: labels_softmax:0, shape: (1, 7), type: DT_FLOAT\n"
     ]
    },
    {
     "name": "stderr",
     "output_type": "stream",
     "text": [
      "INFO:tensorflow: tensor name: labels_softmax:0, shape: (1, 7), type: DT_FLOAT\n"
     ]
    },
    {
     "name": "stdout",
     "output_type": "stream",
     "text": [
      "INFO:tensorflow:Restoring parameters from Model/model_pb/variables/variables\n"
     ]
    },
    {
     "name": "stderr",
     "output_type": "stream",
     "text": [
      "INFO:tensorflow:Restoring parameters from Model/model_pb/variables/variables\n"
     ]
    },
    {
     "name": "stdout",
     "output_type": "stream",
     "text": [
      "Quantized model is 31120 bytes\n"
     ]
    }
   ],
   "source": [
    "# # See tflite_op for implementation. Save TFLITE MODEL FOR INT8 VALUE COMPUTATION\n",
    "save_quantized_model(model_path=pb_model_dir, save_path=quant_model_tflite, rep_files=train_files, rep_data=100)"
   ]
  },
  {
   "cell_type": "markdown",
   "id": "worthy-delicious",
   "metadata": {},
   "source": [
    "# Now Let us Test the Accuracy from TFLITE... See Implmentation in tflite_op.py"
   ]
  },
  {
   "cell_type": "code",
   "execution_count": 20,
   "id": "fluid-empire",
   "metadata": {},
   "outputs": [],
   "source": [
    "# Use our data from our wanted commands\n",
    "commands_files =[]\n",
    "for com in [\"on\", \"off\", \"heater\", \"fan\", \"light\"]:\n",
    "    search_path = os.path.join(\"dataset\", com, '*.wav')\n",
    "    file = gfile.Glob(search_path)\n",
    "    np.random.shuffle(file)\n",
    "    commands_files += file\n",
    "# Preprocess using the Micro_process Implementation\n",
    "data, labels = model.get_next_batch(len(commands_files), commands_files)"
   ]
  },
  {
   "cell_type": "code",
   "execution_count": 21,
   "id": "abandoned-uzbekistan",
   "metadata": {},
   "outputs": [
    {
     "data": {
      "text/plain": [
       "(1960, 1)"
      ]
     },
     "execution_count": 21,
     "metadata": {},
     "output_type": "execute_result"
    }
   ],
   "source": [
    "np.expand_dims(data[i], axis=1).astype(np.float32).shape"
   ]
  },
  {
   "cell_type": "markdown",
   "id": "collectible-developer",
   "metadata": {},
   "source": [
    "# Great Result, 91% on our Wanted words with TFLITE saved as Float: See Result below"
   ]
  },
  {
   "cell_type": "code",
   "execution_count": 22,
   "id": "portuguese-prisoner",
   "metadata": {},
   "outputs": [
    {
     "name": "stdout",
     "output_type": "stream",
     "text": [
      " Float model accuracy is 91.231756% (Number of test samples=9044)\n"
     ]
    }
   ],
   "source": [
    "\n",
    "\n",
    "correct_predictions = 0\n",
    "for i in range(len(data)):\n",
    "    correct_predictions += (predict_float(data[i], float_model_tflite) == labels[i])\n",
    "   \n",
    "\n",
    "print(' Float model accuracy is %f%% (Number of test samples=%d)' % (\n",
    "        (correct_predictions * 100) / len(data), len(data)))"
   ]
  },
  {
   "cell_type": "markdown",
   "id": "rapid-compensation",
   "metadata": {},
   "source": [
    "# Great Result, 91% on our Wanted words with TFLITE saved as INT8: See Result below"
   ]
  },
  {
   "cell_type": "code",
   "execution_count": 23,
   "id": "olive-supplement",
   "metadata": {},
   "outputs": [
    {
     "name": "stdout",
     "output_type": "stream",
     "text": [
      " Int8 model accuracy is 91.032729% (Number of test samples=9044)\n"
     ]
    }
   ],
   "source": [
    "correct_predictions = 0\n",
    "for i in range(len(data)):\n",
    "    correct_predictions += (predict_quantized(data[i], quant_model_tflite ) == labels[i])\n",
    "   \n",
    "\n",
    "print(' Int8 model accuracy is %f%% (Number of test samples=%d)' % (\n",
    "        (correct_predictions * 100) / len(data), len(data)))"
   ]
  },
  {
   "cell_type": "markdown",
   "id": "consolidated-gathering",
   "metadata": {},
   "source": [
    "## For Embedded Devices, Let us covert to TFLITE Micro"
   ]
  },
  {
   "cell_type": "code",
   "execution_count": 24,
   "id": "ongoing-usage",
   "metadata": {},
   "outputs": [],
   "source": [
    "!xxd -i {quant_model_tflite} > {tflite_micro}\n",
    "REPLACE_TEXT = quant_model_tflite.replace('/', '_').replace('.', '_')\n",
    "!sed -i 's/'{REPLACE_TEXT}'/g_model/g' {tflite_micro}"
   ]
  },
  {
   "cell_type": "markdown",
   "id": "going-celebrity",
   "metadata": {},
   "source": [
    "# Holla!!! You have Just Created a MODEL that can be deployed for Speech Recognition on Embedded Devices. Next is to locate the file Model/tflite_micro.cc and this is the Model for deployment to our Device"
   ]
  },
  {
   "cell_type": "code",
   "execution_count": 25,
   "id": "scenic-stanford",
   "metadata": {},
   "outputs": [
    {
     "name": "stdout",
     "output_type": "stream",
     "text": [
      "3\n"
     ]
    },
    {
     "data": {
      "text/plain": [
       "3"
      ]
     },
     "execution_count": 25,
     "metadata": {},
     "output_type": "execute_result"
    }
   ],
   "source": [
    "print(labels[30])\n",
    "\n",
    "predict_quantized(data[30], quant_model_tflite )"
   ]
  },
  {
   "cell_type": "code",
   "execution_count": null,
   "id": "plain-mention",
   "metadata": {},
   "outputs": [],
   "source": [
    "!zip model.zip -r Model"
   ]
  },
  {
   "cell_type": "code",
   "execution_count": 49,
   "id": "ethical-picture",
   "metadata": {},
   "outputs": [
    {
     "name": "stdout",
     "output_type": "stream",
     "text": [
      "  adding: checkpath/ (stored 0%)\n",
      "  adding: checkpath/model.pbtxt (deflated 95%)\n",
      "  adding: checkpath/model_checkpoint.ckpt-12000.meta (deflated 87%)\n",
      "  adding: checkpath/model_checkpoint.ckpt-15000.data-00000-of-00001 (deflated 7%)\n",
      "  adding: checkpath/model_checkpoint.ckpt-13000.index (deflated 37%)\n",
      "  adding: checkpath/model_checkpoint.ckpt-15000.meta (deflated 87%)\n",
      "  adding: checkpath/model_checkpoint.ckpt-15000.index (deflated 37%)\n",
      "  adding: checkpath/model_checkpoint.ckpt-11000.data-00000-of-00001 (deflated 7%)\n",
      "  adding: checkpath/model_checkpoint.ckpt-13000.meta (deflated 87%)\n",
      "  adding: checkpath/model_checkpoint.ckpt-14000.meta (deflated 87%)\n",
      "  adding: checkpath/checkpoint (deflated 80%)\n",
      "  adding: checkpath/model_checkpoint.ckpt-14000.index (deflated 37%)\n",
      "  adding: checkpath/model_checkpoint.ckpt-13000.data-00000-of-00001 (deflated 7%)\n",
      "  adding: checkpath/model_checkpoint.ckpt-11000.index (deflated 37%)\n",
      "  adding: checkpath/model_checkpoint.ckpt-11000.meta (deflated 87%)\n",
      "  adding: checkpath/.ipynb_checkpoints/ (stored 0%)\n",
      "  adding: checkpath/.ipynb_checkpoints/model-checkpoint.pbtxt (deflated 95%)\n",
      "  adding: checkpath/.ipynb_checkpoints/checkpoint-checkpoint (deflated 78%)\n",
      "  adding: checkpath/model_checkpoint.ckpt-12000.data-00000-of-00001 (deflated 7%)\n",
      "  adding: checkpath/model_checkpoint.ckpt-14000.data-00000-of-00001 (deflated 7%)\n",
      "  adding: checkpath/model_checkpoint.ckpt-12000.index (deflated 37%)\n",
      "  adding: checkpath/commands_labels.txt (deflated 34%)\n"
     ]
    }
   ],
   "source": [
    "!zip checkpoint.zip -r checkpath "
   ]
  },
  {
   "cell_type": "code",
   "execution_count": 48,
   "id": "relevant-chrome",
   "metadata": {},
   "outputs": [
    {
     "name": "stdout",
     "output_type": "stream",
     "text": [
      "Archive:  check.zip\n",
      "   creating: work/model/\n",
      "  inflating: work/model/model.pbtxt  \n",
      "  inflating: work/model/model_checkpoint.ckpt-7000.index  \n",
      "  inflating: work/model/model_checkpoint.ckpt-8000.meta  \n",
      "  inflating: work/model/model_checkpoint.ckpt-9000.meta  \n",
      "  inflating: work/model/model_checkpoint.ckpt-9000.index  \n",
      "  inflating: work/model/model_checkpoint.ckpt-8000.data-00000-of-00001  \n",
      "  inflating: work/model/model_checkpoint.ckpt-7000.data-00000-of-00001  \n",
      "  inflating: work/model/model_checkpoint.ckpt-8000.index  \n",
      "  inflating: work/model/checkpoint   \n",
      "  inflating: work/model/model_checkpoint.ckpt-9000.data-00000-of-00001  \n",
      "  inflating: work/model/model_checkpoint.ckpt-10000.data-00000-of-00001  \n",
      "  inflating: work/model/model_checkpoint.ckpt-6000.meta  \n",
      "  inflating: work/model/model_checkpoint.ckpt-6000.data-00000-of-00001  \n",
      "  inflating: work/model/model_checkpoint.ckpt-7000.meta  \n",
      "  inflating: work/model/model_checkpoint.ckpt-6000.index  \n",
      "  inflating: work/model/model_checkpoint.ckpt-10000.index  \n",
      "  inflating: work/model/commands_labels.txt  \n",
      "  inflating: work/model/model_checkpoint.ckpt-10000.meta  \n"
     ]
    }
   ],
   "source": [
    "!unzip check.zip -d work\n"
   ]
  },
  {
   "cell_type": "code",
   "execution_count": null,
   "id": "atomic-aberdeen",
   "metadata": {},
   "outputs": [],
   "source": []
  },
  {
   "cell_type": "code",
   "execution_count": null,
   "id": "massive-exhibit",
   "metadata": {},
   "outputs": [],
   "source": []
  },
  {
   "cell_type": "code",
   "execution_count": null,
   "id": "disabled-colon",
   "metadata": {},
   "outputs": [],
   "source": []
  },
  {
   "cell_type": "code",
   "execution_count": null,
   "id": "reported-thomson",
   "metadata": {},
   "outputs": [],
   "source": []
  },
  {
   "cell_type": "code",
   "execution_count": null,
   "id": "deluxe-tourist",
   "metadata": {},
   "outputs": [],
   "source": []
  },
  {
   "cell_type": "code",
   "execution_count": null,
   "id": "pressed-retrieval",
   "metadata": {},
   "outputs": [],
   "source": []
  }
 ],
 "metadata": {
  "kernelspec": {
   "display_name": "Python 3 (λ)",
   "language": "python",
   "name": "lambda-stack"
  },
  "language_info": {
   "codemirror_mode": {
    "name": "ipython",
    "version": 3
   },
   "file_extension": ".py",
   "mimetype": "text/x-python",
   "name": "python",
   "nbconvert_exporter": "python",
   "pygments_lexer": "ipython3",
   "version": "3.8.5"
  }
 },
 "nbformat": 4,
 "nbformat_minor": 5
}
