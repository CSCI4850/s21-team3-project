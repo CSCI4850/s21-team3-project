{
 "cells": [
  {
   "cell_type": "markdown",
   "id": "driving-cherry",
   "metadata": {},
   "source": [
    "# To train up a Model with the .wav dataset. Run through this Notebook"
   ]
  },
  {
   "cell_type": "code",
   "execution_count": null,
   "id": "thrown-funeral",
   "metadata": {},
   "outputs": [],
   "source": [
    "#Download Dataset\n",
    "!wget https://zenodo.org/record/4682101/files/dataset.zip?download=1 "
   ]
  },
  {
   "cell_type": "code",
   "execution_count": null,
   "id": "billion-paris",
   "metadata": {},
   "outputs": [],
   "source": [
    "#Unzip Dataset\n",
    "!unzip dataset.zip "
   ]
  },
  {
   "cell_type": "code",
   "execution_count": 1,
   "id": "determined-ivory",
   "metadata": {},
   "outputs": [],
   "source": [
    "# import Required Libraries\n",
    "from matplotlib import cm\n",
    "import os.path\n",
    "import random\n",
    "import pathlib\n",
    "import matplotlib.pyplot as plt\n",
    "import tensorflow as tf\n",
    "import numpy as np\n",
    "import tensorflow.compat.v1.keras.backend as K\n",
    "from feature_extract import *\n",
    "from train import Model\n",
    "from tflite_op import *\n",
    "from feature_extract import *\n",
    "\n",
    "if tf.test.is_built_with_cuda():\n",
    "    from tensorflow.compat.v1 import ConfigProto\n",
    "    from tensorflow.compat.v1 import InteractiveSession\n",
    "    config = ConfigProto()\n",
    "    config.gpu_options.allow_growth = True\n",
    "    sess = InteractiveSession(config=config)\n",
    "else:\n",
    "    sess = InteractiveSession()"
   ]
  },
  {
   "cell_type": "code",
   "execution_count": 2,
   "id": "acknowledged-crime",
   "metadata": {},
   "outputs": [
    {
     "name": "stdout",
     "output_type": "stream",
     "text": [
      "Number of Commands:  38\n"
     ]
    }
   ],
   "source": [
    "#!unzip dataset.zip > 0\n",
    "\"\"\" \n",
    "    Read Samples directory into an Array Excluding irrelivant directories\n",
    "\"\"\"\n",
    "data_dir = pathlib.Path('dataset')\n",
    "\n",
    "commands = np.array(tf.io.gfile.listdir(str(data_dir)))\n",
    "commands = commands[commands != 'validation_list.txt']\n",
    "commands = commands[commands != \"_background_noise_\"]\n",
    "commands = commands[commands != 'LICENSE']\n",
    "commands = commands[commands != '.DS_Store']\n",
    "commands = commands[commands != 'README.md']\n",
    "commands = commands[commands != 'testing_list.txt']\n",
    "commands = commands[commands != '.ipynb_checkpoints']\n",
    "commands = commands[commands != 'silence']\n",
    "commands = list(commands)\n",
    "print(\"Number of Commands: \", len(commands))"
   ]
  },
  {
   "cell_type": "code",
   "execution_count": 3,
   "id": "ahead-monkey",
   "metadata": {},
   "outputs": [
    {
     "name": "stdout",
     "output_type": "stream",
     "text": [
      "rm: cannot remove 'dataset/_background_noise_': No such file or directory\n",
      "rm: cannot remove 'dataset/silence': No such file or directory\n"
     ]
    }
   ],
   "source": [
    "!rm -r dataset/_background_noise_\n",
    "!rm -r dataset/silence\n",
    "model_dir = pathlib.Path('checkpoints')"
   ]
  },
  {
   "cell_type": "code",
   "execution_count": 4,
   "id": "described-batch",
   "metadata": {},
   "outputs": [],
   "source": [
    "search_path = os.path.join(data_dir, \"*\", '*.wav') # Collect all available ./wav files into a python list\n",
    "files = gfile.Glob(search_path)\n",
    "np.random.shuffle(files)"
   ]
  },
  {
   "cell_type": "code",
   "execution_count": 5,
   "id": "impaired-corner",
   "metadata": {},
   "outputs": [
    {
     "name": "stdout",
     "output_type": "stream",
     "text": [
      "training samples:  75098\n",
      "validation Samples:  22529\n",
      "test Samples:  9656\n"
     ]
    }
   ],
   "source": [
    "# Divide file samples into training, Validation and Testing\n",
    "\n",
    "n_of_samples = len(files)\n",
    "train_percent = int(n_of_samples * 0.7) # Percentage of Data available for Training\n",
    "val_percent = int((n_of_samples - train_percent)*0.7) # Percentage of Data available for Validation\n",
    "test_percent = int((n_of_samples - train_percent)*0.3) # Percentage of Data available for Testing\n",
    "\n",
    "train_files = files[:train_percent]\n",
    "val_files = files[train_percent:val_percent+train_percent]\n",
    "test_files= files[val_percent+train_percent:]\n",
    "\n",
    "print(\"training samples: \", len(train_files))\n",
    "print(\"validation Samples: \", len(val_files))\n",
    "print(\"test Samples: \", len(test_files))"
   ]
  },
  {
   "cell_type": "code",
   "execution_count": null,
   "id": "defensive-northern",
   "metadata": {},
   "outputs": [],
   "source": []
  },
  {
   "cell_type": "markdown",
   "id": "direct-dispatch",
   "metadata": {},
   "source": [
    "## Create Model and Model Layers. You can increase the CNN filters to desired values to increase accuracy"
   ]
  },
  {
   "cell_type": "code",
   "execution_count": 7,
   "id": "legitimate-princess",
   "metadata": {},
   "outputs": [],
   "source": [
    "model = Model(first_conv_filter = 128, second_conv_filter = 64, model_dir=\"checkpath\", commands= commands, sess = sess) # Create Model"
   ]
  },
  {
   "cell_type": "code",
   "execution_count": 8,
   "id": "signal-recall",
   "metadata": {},
   "outputs": [],
   "source": [
    "#Comment out to load from checkpoint, you can also pass in path to checkpoint\n",
    "#model.load_checkpoint()\n",
    "#model.load_checkpoint(path=\"model/model_checkpoint.ckpt-10000\") "
   ]
  },
  {
   "cell_type": "code",
   "execution_count": 10,
   "id": "national-revelation",
   "metadata": {},
   "outputs": [
    {
     "name": "stdout",
     "output_type": "stream",
     "text": [
      "INFO:tensorflow:Using MirroredStrategy with devices ('/replica:0/task:0/device:GPU:0', '/replica:0/task:0/device:GPU:1')\n"
     ]
    }
   ],
   "source": [
    "# Train Model\n",
    "history = model.train(learn_rate=[0.01, 0.0001], dropout_rate=0.5, save_step=1000, eval_step=1000,\n",
    "                      batch_size=256, training_time=15000, rate_step=10000, display_step=1000, \n",
    "                      train_data=train_files, Validation_data=val_files)"
   ]
  },
  {
   "cell_type": "code",
   "execution_count": 33,
   "id": "desirable-eagle",
   "metadata": {},
   "outputs": [],
   "source": [
    "data, label = model.get_next_batch(500, file_path = test_files) # Get Test Data from the Test Files"
   ]
  },
  {
   "cell_type": "code",
   "execution_count": 34,
   "id": "approved-missouri",
   "metadata": {},
   "outputs": [
    {
     "name": "stdout",
     "output_type": "stream",
     "text": [
      "Validation accuracy = 85.2%, Validation loss = 0.688932\n"
     ]
    },
    {
     "data": {
      "text/plain": [
       "(0.852, 0.6889315)"
      ]
     },
     "execution_count": 34,
     "metadata": {},
     "output_type": "execute_result"
    }
   ],
   "source": [
    "model.evaluate(data, label) # Evaluate on Data # Please note "
   ]
  },
  {
   "cell_type": "code",
   "execution_count": 35,
   "id": "super-humor",
   "metadata": {},
   "outputs": [
    {
     "data": {
      "text/plain": [
       "25"
      ]
     },
     "execution_count": 35,
     "metadata": {},
     "output_type": "execute_result"
    }
   ],
   "source": [
    "model.predict(data)[0][1].item() "
   ]
  },
  {
   "cell_type": "code",
   "execution_count": 36,
   "id": "ethical-future",
   "metadata": {},
   "outputs": [
    {
     "data": {
      "text/plain": [
       "25"
      ]
     },
     "execution_count": 36,
     "metadata": {},
     "output_type": "execute_result"
    }
   ],
   "source": [
    "label[1]"
   ]
  },
  {
   "cell_type": "code",
   "execution_count": 19,
   "id": "cutting-hudson",
   "metadata": {},
   "outputs": [
    {
     "data": {
      "image/png": "[encoded data removed]",
      "text/plain": [
       "<Figure size 432x288 with 2 Axes>"
      ]
     },
     "metadata": {
      "needs_background": "light"
     },
     "output_type": "display_data"
    }
   ],
   "source": [
    "plt.subplot(211)\n",
    "plt.plot(history['categorical_accuracy'])\n",
    "plt.plot(history['val_categorical_accuracy'])\n",
    "plt.title('model accuracy')\n",
    "plt.ylabel('accuracy')\n",
    "plt.xlabel('epoch')\n",
    "plt.legend(['train','val'],loc='upper left')# summarize history for loss \n",
    "\n",
    "\n",
    "\n",
    "plt.subplot(212)\n",
    "plt.plot(history['loss'])\n",
    "plt.plot(history['val_loss'])\n",
    "plt.title('model loss')\n",
    "plt.ylabel('loss')\n",
    "plt.xlabel('epoch')\n",
    "plt.legend(['train','val'],loc='upper left')\n",
    "plt.tight_layout()\n",
    "plt.show()"
   ]
  },
  {
   "cell_type": "code",
   "execution_count": 37,
   "id": "marine-diving",
   "metadata": {},
   "outputs": [],
   "source": [
    "data, label = model.get_next_batch(1, file_path = test_files)"
   ]
  },
  {
   "cell_type": "markdown",
   "id": "sporting-center",
   "metadata": {},
   "source": [
    "# Here we are Saving the Model for a reload using tf.saved_model.load, Serving Signature is set to Default"
   ]
  },
  {
   "cell_type": "code",
   "execution_count": 38,
   "id": "hollow-verification",
   "metadata": {},
   "outputs": [
    {
     "name": "stdout",
     "output_type": "stream",
     "text": [
      "INFO:tensorflow:Restoring parameters from checkpath/model_checkpoint.ckpt-20000\n",
      "WARNING:tensorflow:From /home/jovyan/train.py:434: build_tensor_info (from tensorflow.python.saved_model.utils_impl) is deprecated and will be removed in a future version.\n",
      "Instructions for updating:\n",
      "This function will only be available through the v1 compatibility library as tf.compat.v1.saved_model.utils.build_tensor_info or tf.compat.v1.saved_model.build_tensor_info.\n",
      "INFO:tensorflow:No assets to save.\n",
      "INFO:tensorflow:No assets to write.\n",
      "INFO:tensorflow:SavedModel written to: Model/saved_model.pb\n"
     ]
    }
   ],
   "source": [
    "model.save_pb_model(file_name = \"Model\",  first_conv_filter=128, second_conv_filter=64, frequency_size=40, time_size=49, )"
   ]
  },
  {
   "cell_type": "markdown",
   "id": "surrounded-seeking",
   "metadata": {},
   "source": [
    "# The Next Lines of code introduces you to TFLITE and TFLITE MICRO\n",
    "### TFLITE for Android Devices and Micro-Computers\n",
    "### TFLITE for Micro-controllers and Embedded Devices with low power and generally requiring int8 computations"
   ]
  },
  {
   "cell_type": "code",
   "execution_count": 39,
   "id": "controlled-booth",
   "metadata": {},
   "outputs": [],
   "source": [
    "# directories and tflite micro requires\n",
    "from tflite_op import *\n",
    "rep_size = 100\n",
    "float_model_tflite=\"work/tfFloat\"\n",
    "quant_model_tflite= \"work/tflite\"\n",
    "pb_model_dir = \"Model\"\n",
    "tflite_micro = \"work/tflite_micro\"\n",
    "#"
   ]
  },
  {
   "cell_type": "code",
   "execution_count": null,
   "id": "laughing-decade",
   "metadata": {},
   "outputs": [],
   "source": [
    "# See tflite_op for implementation. Save TFLITE MODEL FOR FLOAT VALUE COMPUTATION\n",
    "save_float_model(model_path=pb_model_dir, save_path=float_model_tflite)"
   ]
  },
  {
   "cell_type": "code",
   "execution_count": 23,
   "id": "explicit-debate",
   "metadata": {},
   "outputs": [
    {
     "name": "stderr",
     "output_type": "stream",
     "text": [
      "WARNING:absl:Invoking the TF1 implementation of TFLiteConverter because eager is disabled. Consider enabling eager.\n"
     ]
    },
    {
     "name": "stdout",
     "output_type": "stream",
     "text": [
      "INFO:tensorflow:Restoring parameters from Model/variables/variables\n"
     ]
    },
    {
     "name": "stderr",
     "output_type": "stream",
     "text": [
      "INFO:tensorflow:Restoring parameters from Model/variables/variables\n"
     ]
    },
    {
     "name": "stdout",
     "output_type": "stream",
     "text": [
      "INFO:tensorflow:The given SavedModel MetaGraphDef contains SignatureDefs with the following keys: {'serving_default'}\n"
     ]
    },
    {
     "name": "stderr",
     "output_type": "stream",
     "text": [
      "INFO:tensorflow:The given SavedModel MetaGraphDef contains SignatureDefs with the following keys: {'serving_default'}\n"
     ]
    },
    {
     "name": "stdout",
     "output_type": "stream",
     "text": [
      "INFO:tensorflow:input tensors info: \n"
     ]
    },
    {
     "name": "stderr",
     "output_type": "stream",
     "text": [
      "INFO:tensorflow:input tensors info: \n"
     ]
    },
    {
     "name": "stdout",
     "output_type": "stream",
     "text": [
      "INFO:tensorflow:Tensor's key in saved_model's tensor_map: input\n"
     ]
    },
    {
     "name": "stderr",
     "output_type": "stream",
     "text": [
      "INFO:tensorflow:Tensor's key in saved_model's tensor_map: input\n"
     ]
    },
    {
     "name": "stdout",
     "output_type": "stream",
     "text": [
      "INFO:tensorflow: tensor name: Reshape_3:0, shape: (1, 1960), type: DT_FLOAT\n"
     ]
    },
    {
     "name": "stderr",
     "output_type": "stream",
     "text": [
      "INFO:tensorflow: tensor name: Reshape_3:0, shape: (1, 1960), type: DT_FLOAT\n"
     ]
    },
    {
     "name": "stdout",
     "output_type": "stream",
     "text": [
      "INFO:tensorflow:output tensors info: \n"
     ]
    },
    {
     "name": "stderr",
     "output_type": "stream",
     "text": [
      "INFO:tensorflow:output tensors info: \n"
     ]
    },
    {
     "name": "stdout",
     "output_type": "stream",
     "text": [
      "INFO:tensorflow:Tensor's key in saved_model's tensor_map: predictions\n"
     ]
    },
    {
     "name": "stderr",
     "output_type": "stream",
     "text": [
      "INFO:tensorflow:Tensor's key in saved_model's tensor_map: predictions\n"
     ]
    },
    {
     "name": "stdout",
     "output_type": "stream",
     "text": [
      "INFO:tensorflow: tensor name: labels_softmax:0, shape: (1, 38), type: DT_FLOAT\n"
     ]
    },
    {
     "name": "stderr",
     "output_type": "stream",
     "text": [
      "INFO:tensorflow: tensor name: labels_softmax:0, shape: (1, 38), type: DT_FLOAT\n"
     ]
    },
    {
     "name": "stdout",
     "output_type": "stream",
     "text": [
      "INFO:tensorflow:Restoring parameters from Model/variables/variables\n"
     ]
    },
    {
     "name": "stderr",
     "output_type": "stream",
     "text": [
      "INFO:tensorflow:Restoring parameters from Model/variables/variables\n"
     ]
    },
    {
     "name": "stdout",
     "output_type": "stream",
     "text": [
      "INFO:tensorflow:Restoring parameters from Model/variables/variables\n"
     ]
    },
    {
     "name": "stderr",
     "output_type": "stream",
     "text": [
      "INFO:tensorflow:Restoring parameters from Model/variables/variables\n"
     ]
    },
    {
     "name": "stdout",
     "output_type": "stream",
     "text": [
      "INFO:tensorflow:The given SavedModel MetaGraphDef contains SignatureDefs with the following keys: {'serving_default'}\n"
     ]
    },
    {
     "name": "stderr",
     "output_type": "stream",
     "text": [
      "INFO:tensorflow:The given SavedModel MetaGraphDef contains SignatureDefs with the following keys: {'serving_default'}\n"
     ]
    },
    {
     "name": "stdout",
     "output_type": "stream",
     "text": [
      "INFO:tensorflow:input tensors info: \n"
     ]
    },
    {
     "name": "stderr",
     "output_type": "stream",
     "text": [
      "INFO:tensorflow:input tensors info: \n"
     ]
    },
    {
     "name": "stdout",
     "output_type": "stream",
     "text": [
      "INFO:tensorflow:Tensor's key in saved_model's tensor_map: input\n"
     ]
    },
    {
     "name": "stderr",
     "output_type": "stream",
     "text": [
      "INFO:tensorflow:Tensor's key in saved_model's tensor_map: input\n"
     ]
    },
    {
     "name": "stdout",
     "output_type": "stream",
     "text": [
      "INFO:tensorflow: tensor name: Reshape_3:0, shape: (1, 1960), type: DT_FLOAT\n"
     ]
    },
    {
     "name": "stderr",
     "output_type": "stream",
     "text": [
      "INFO:tensorflow: tensor name: Reshape_3:0, shape: (1, 1960), type: DT_FLOAT\n"
     ]
    },
    {
     "name": "stdout",
     "output_type": "stream",
     "text": [
      "INFO:tensorflow:output tensors info: \n"
     ]
    },
    {
     "name": "stderr",
     "output_type": "stream",
     "text": [
      "INFO:tensorflow:output tensors info: \n"
     ]
    },
    {
     "name": "stdout",
     "output_type": "stream",
     "text": [
      "INFO:tensorflow:Tensor's key in saved_model's tensor_map: predictions\n"
     ]
    },
    {
     "name": "stderr",
     "output_type": "stream",
     "text": [
      "INFO:tensorflow:Tensor's key in saved_model's tensor_map: predictions\n"
     ]
    },
    {
     "name": "stdout",
     "output_type": "stream",
     "text": [
      "INFO:tensorflow: tensor name: labels_softmax:0, shape: (1, 38), type: DT_FLOAT\n"
     ]
    },
    {
     "name": "stderr",
     "output_type": "stream",
     "text": [
      "INFO:tensorflow: tensor name: labels_softmax:0, shape: (1, 38), type: DT_FLOAT\n"
     ]
    },
    {
     "name": "stdout",
     "output_type": "stream",
     "text": [
      "INFO:tensorflow:Restoring parameters from Model/variables/variables\n"
     ]
    },
    {
     "name": "stderr",
     "output_type": "stream",
     "text": [
      "INFO:tensorflow:Restoring parameters from Model/variables/variables\n"
     ]
    },
    {
     "name": "stdout",
     "output_type": "stream",
     "text": [
      "Quantized model is 1550008 bytes\n"
     ]
    }
   ],
   "source": [
    "# # See tflite_op for implementation. Save TFLITE MODEL FOR INT8 VALUE COMPUTATION\n",
    "save_quantized_model(model_path=pb_model_dir, save_path=quant_model_tflite, rep_files=test_files, rep_data=100)"
   ]
  },
  {
   "cell_type": "markdown",
   "id": "hybrid-baptist",
   "metadata": {},
   "source": [
    "# Now Let us Test the Accuracy from TFLITE... See Implentation in tflite_op.py"
   ]
  },
  {
   "cell_type": "code",
   "execution_count": 40,
   "id": "smooth-boundary",
   "metadata": {},
   "outputs": [],
   "source": [
    "# Use our data from our wanted commands\n",
    "commands_files =[]\n",
    "for com in [\"on\", \"off\",]:\n",
    "    search_path = os.path.join(\"dataset\", com, '*.wav')\n",
    "    file = gfile.Glob(search_path)\n",
    "    np.random.shuffle(file)\n",
    "    commands_files += file\n",
    "# Preprocess using the Micro_process Implementation\n",
    "data, labels = model.get_next_batch(len(commands_files), commands_files)"
   ]
  },
  {
   "cell_type": "code",
   "execution_count": 25,
   "id": "improving-cargo",
   "metadata": {},
   "outputs": [
    {
     "name": "stdout",
     "output_type": "stream",
     "text": [
      " model accuracy is 80.445884% (Number of test samples=8029)\n"
     ]
    }
   ],
   "source": [
    "\n",
    "\n",
    "correct_predictions = 0\n",
    "for i in range(len(data)):\n",
    "    correct_predictions += (predict_float(data[i], FLOAT_MODEL_TFLITE) == labels[i])\n",
    "   \n",
    "\n",
    "print(' Float model accuracy is %f%% (Number of test samples=%d)' % (\n",
    "        (correct_predictions * 100) / len(data), len(data)))"
   ]
  },
  {
   "cell_type": "code",
   "execution_count": 26,
   "id": "cultural-journalism",
   "metadata": {},
   "outputs": [
    {
     "name": "stdout",
     "output_type": "stream",
     "text": [
      " model accuracy is 79.922780% (Number of test samples=8029)\n"
     ]
    }
   ],
   "source": [
    "correct_predictions = 0\n",
    "for i in range(len(data)):\n",
    "    correct_predictions += (predict_quantized(data[i], MODEL_TFLITE ) == labels[i])\n",
    "   \n",
    "\n",
    "print(' Int8 model accuracy is %f%% (Number of test samples=%d)' % (\n",
    "        (correct_predictions * 100) / len(data), len(data)))"
   ]
  },
  {
   "cell_type": "markdown",
   "id": "passive-external",
   "metadata": {},
   "source": [
    "## For Embedded Devices, Let us covert to Micro"
   ]
  },
  {
   "cell_type": "code",
   "execution_count": 42,
   "id": "measured-delight",
   "metadata": {},
   "outputs": [],
   "source": [
    "!xxd -i {quant_model_tflite} > {tflite_micro}\n",
    "REPLACE_TEXT = quant_model_tflite.replace('/', '_').replace('.', '_')\n",
    "!sed -i 's/'{REPLACE_TEXT}'/g_model/g' {tflite_micro}"
   ]
  },
  {
   "cell_type": "code",
   "execution_count": 56,
   "id": "brutal-surgery",
   "metadata": {},
   "outputs": [],
   "source": [
    "# Cat file into txt and Copy to device\n",
    "!cat {MODEL_TFLITE_MICRO} > t.txt"
   ]
  },
  {
   "cell_type": "code",
   "execution_count": null,
   "id": "intimate-rubber",
   "metadata": {},
   "outputs": [],
   "source": []
  },
  {
   "cell_type": "code",
   "execution_count": null,
   "id": "royal-target",
   "metadata": {},
   "outputs": [],
   "source": []
  },
  {
   "cell_type": "code",
   "execution_count": null,
   "id": "comic-flashing",
   "metadata": {},
   "outputs": [],
   "source": []
  },
  {
   "cell_type": "code",
   "execution_count": null,
   "id": "polish-arnold",
   "metadata": {},
   "outputs": [],
   "source": []
  },
  {
   "cell_type": "code",
   "execution_count": null,
   "id": "decimal-means",
   "metadata": {},
   "outputs": [],
   "source": []
  },
  {
   "cell_type": "code",
   "execution_count": null,
   "id": "available-elite",
   "metadata": {},
   "outputs": [],
   "source": []
  },
  {
   "cell_type": "code",
   "execution_count": null,
   "id": "harmful-pontiac",
   "metadata": {},
   "outputs": [],
   "source": []
  }
 ],
 "metadata": {
  "kernelspec": {
   "display_name": "Python 3 (λ)",
   "language": "python",
   "name": "lambda-stack"
  },
  "language_info": {
   "codemirror_mode": {
    "name": "ipython",
    "version": 3
   },
   "file_extension": ".py",
   "mimetype": "text/x-python",
   "name": "python",
   "nbconvert_exporter": "python",
   "pygments_lexer": "ipython3",
   "version": "3.8.5"
  }
 },
 "nbformat": 4,
 "nbformat_minor": 5
}
